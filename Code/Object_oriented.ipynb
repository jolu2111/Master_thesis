{
 "cells": [
  {
   "cell_type": "code",
   "execution_count": 23,
   "metadata": {},
   "outputs": [
    {
     "name": "stdout",
     "output_type": "stream",
     "text": [
      "Red\n",
      "Blue\n"
     ]
    }
   ],
   "source": [
    "class Car:\n",
    "    def __init__(self, make, model, year):\n",
    "        self.make = make\n",
    "        self.model = model\n",
    "        self.year = year\n",
    "        self._color = \"Red\"  # Private variable (using _ to indicate internal use)\n",
    "\n",
    "    @property\n",
    "    def color(self):\n",
    "        \"\"\"Getter: Returns the color of the car.\"\"\"\n",
    "        return self._color  # Access the internal _color variable\n",
    "\n",
    "    @color.setter\n",
    "    def color(self, new_color):\n",
    "        \"\"\"Setter: Allows changing the car's color.\"\"\"\n",
    "        self._color = new_color  # Change the color\n",
    "\n",
    "# Create an instance\n",
    "my_car = Car(\"Tesla\", \"Model 3\", 2022)\n",
    "\n",
    "# Access color like an attribute\n",
    "print(my_car.color)  # Red\n",
    "\n",
    "# Change the color\n",
    "my_car.color = \"Blue\"\n",
    "\n",
    "# Check the updated color\n",
    "print(my_car.color)  # Blue\n"
   ]
  },
  {
   "cell_type": "markdown",
   "metadata": {},
   "source": [
    "- Method are functions that are inside classes \n",
    "\n",
    "- Have a self in the methods every time!\n",
    "\n",
    "- You can create instances of a class and thereby use all the methods of the class on that instance.\n",
    "\n",
    "- You can assign attributes to specific instances individually \n",
    "    - With the use of ??\n",
    "\n",
    "- You can say __innit__(something: float) in the initialization, and both float ant integer works!\n",
    "\n",
    "- Class attribute \n",
    "    - ??\n",
    "\n",
    "- Class method \n",
    "    - A method that is only in the class??\n",
    "\n",
    "- Static method \n",
    "    - ??\n",
    "\n",
    "- Overwriting attributes \n",
    "    - @property decorator "
   ]
  },
  {
   "cell_type": "code",
   "execution_count": 99,
   "metadata": {},
   "outputs": [
    {
     "name": "stdout",
     "output_type": "stream",
     "text": [
      "An instance of the class: Iphone\n",
      "An instance of the class: Laptop\n",
      "An instance of the class: Samsung\n",
      "[Iphone with the price: 1000, Laptop with the price: 5000, Samsung with the price: 500]\n",
      "[Iphone with the price: 1000, Laptop with the price: 5000, Samsung with the price: 500]\n"
     ]
    },
    {
     "ename": "AttributeError",
     "evalue": "can't set attribute 'name'",
     "output_type": "error",
     "traceback": [
      "\u001b[1;31m---------------------------------------------------------------------------\u001b[0m",
      "\u001b[1;31mAttributeError\u001b[0m                            Traceback (most recent call last)",
      "Cell \u001b[1;32mIn[99], line 65\u001b[0m\n\u001b[0;32m     61\u001b[0m \u001b[38;5;28mprint\u001b[39m(item\u001b[38;5;241m.\u001b[39mall)\n\u001b[0;32m     63\u001b[0m \u001b[38;5;28mprint\u001b[39m(phone\u001b[38;5;241m.\u001b[39mall)\n\u001b[1;32m---> 65\u001b[0m \u001b[43mitem1\u001b[49m\u001b[38;5;241;43m.\u001b[39;49m\u001b[43mname\u001b[49m \u001b[38;5;241m=\u001b[39m \u001b[38;5;124m'\u001b[39m\u001b[38;5;124mSamsung\u001b[39m\u001b[38;5;124m'\u001b[39m \u001b[38;5;66;03m# Change the name of the item\u001b[39;00m\n\u001b[0;32m     66\u001b[0m item1\u001b[38;5;241m.\u001b[39mname\n",
      "\u001b[1;31mAttributeError\u001b[0m: can't set attribute 'name'"
     ]
    }
   ],
   "source": [
    "class item:\n",
    "    pay_rate=0.8\n",
    "    all = []\n",
    "\n",
    "    def __init__(self, name: str, price: float, quantity=0): # Python will call this method when creating an instance\n",
    "\n",
    "        assert price >= 0, \"Price should be a positive number\"\n",
    "        assert quantity >= 0, \"Quantity should be a positive number\"\n",
    "\n",
    "        print(\"An instance of the class:\", name)\n",
    "        self.__name = name\n",
    "        self.price = price\n",
    "        self.quantity = quantity\n",
    "\n",
    "        item.all.append(self)\n",
    "\n",
    "    @property\n",
    "    # Read-only attribute\n",
    "    def name(self):\n",
    "        return self.__name\n",
    "\n",
    "    def total_price(self):\n",
    "        return self.price * self.quantity\n",
    "    \n",
    "    def apply_discount(self):\n",
    "        self.price = self.total_price() * self.pay_rate\n",
    "\n",
    "    @classmethod\n",
    "    def instantiate_from_csv(cls):\n",
    "        with open('item.csv') as f:\n",
    "            lines = f.readlines()\n",
    "            for line in lines[1:]:  # Skip the first row\n",
    "                name, price, quantity = line.strip().split(',')\n",
    "                item(name, float(price), int(quantity))\n",
    "\n",
    "    @staticmethod\n",
    "    def is_integer(num):\n",
    "        if isinstance(num, float):\n",
    "            return num.is_integer()\n",
    "        elif isinstance(num, int):\n",
    "            return True\n",
    "        else:\n",
    "            return False\n",
    "        \n",
    "    def __repr__(self):\n",
    "        return f\"{self.name} with the price: {self.price}\"\n",
    "\n",
    "class phone(item):\n",
    "    def __init__(self, name: str, price: float, quantity=0, broken_phones=0):\n",
    "        super().__init__(name, price, quantity)\n",
    "        self.broken_phones = broken_phones \n",
    "\n",
    "\n",
    "item1 = item('Iphone',1000,30) # Create an instance of the class\n",
    "item2 = item('Laptop', 5000,3) # Create another instance of the class\n",
    "\n",
    "\n",
    "phone1=phone('Samsung', 500, 10,1) # Create an instance of the class\n",
    "phone1.total_price() # 5000\n",
    "\n",
    "print(item.all)\n",
    "\n",
    "print(phone.all)\n",
    "\n",
    "item1.__name # Change the name of the item\n",
    "item1.name"
   ]
  },
  {
   "cell_type": "code",
   "execution_count": null,
   "metadata": {},
   "outputs": [],
   "source": []
  }
 ],
 "metadata": {
  "kernelspec": {
   "display_name": "Python 3",
   "language": "python",
   "name": "python3"
  },
  "language_info": {
   "codemirror_mode": {
    "name": "ipython",
    "version": 3
   },
   "file_extension": ".py",
   "mimetype": "text/x-python",
   "name": "python",
   "nbconvert_exporter": "python",
   "pygments_lexer": "ipython3",
   "version": "3.10.11"
  }
 },
 "nbformat": 4,
 "nbformat_minor": 2
}
