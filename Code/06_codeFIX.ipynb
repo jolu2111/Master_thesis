{
 "cells": [
  {
   "cell_type": "code",
   "execution_count": 1,
   "id": "e8c50033",
   "metadata": {},
   "outputs": [],
   "source": [
    "import numpy as np\n",
    "import matplotlib.pyplot as plt\n",
    "import torch.optim as optim\n",
    "import torch\n",
    "import torch.nn as nn\n",
    "import random\n",
    "import numpy as np"
   ]
  },
  {
   "cell_type": "code",
   "execution_count": 2,
   "id": "f75537bd",
   "metadata": {},
   "outputs": [],
   "source": [
    "from utils_FIX import *\n",
    "from param_init_FIX import *\n",
    "from exact_sol import *\n",
    "from evaluation_FIX import *\n",
    "\n",
    "set_seed()"
   ]
  },
  {
   "cell_type": "code",
   "execution_count": 3,
   "id": "072fd0ea",
   "metadata": {},
   "outputs": [],
   "source": [
    "specs = {\n",
    "        't': {'range': 5.0},\n",
    "       'm':  {'mean': 1.0,  'std': 0.1, 'lower_multiplier': -2, 'upper_multiplier': 4},\n",
    "       'mu': {'mean': 0.6,  'std': 0.1, 'lower_multiplier': -4, 'upper_multiplier': 2},\n",
    "       'k':  {'mean': 5.0,  'std': 0.5, 'lower_multiplier': -2, 'upper_multiplier': 4},\n",
    "       'y0': {'mean': -0.4, 'std': 0.1, 'lower_multiplier': -2, 'upper_multiplier': 4},\n",
    "       'v0': {'mean': 3.0,  'std': 0.5, 'lower_multiplier': -2, 'upper_multiplier': 4},\n",
    "    }\n",
    "\n",
    "params=initialize_param(500,distribute=['m','mu','k','y0','v0'],specs=specs, normalize=True)\n"
   ]
  },
  {
   "cell_type": "code",
   "execution_count": 5,
   "id": "1b390c72",
   "metadata": {},
   "outputs": [
    {
     "name": "stdout",
     "output_type": "stream",
     "text": [
      "{'t': {'range': 5.0}, 'm': {'mean': 1.0, 'std': 0.1}, 'mu': {'mean': 0.6, 'std': 0.1}, 'k': {'mean': 5.0, 'std': 0.5}, 'y0': {'mean': -0.4, 'std': 0.1}, 'v0': {'mean': 3.0, 'std': 0.5}}\n"
     ]
    }
   ],
   "source": [
    "print(params['norm_info'])"
   ]
  },
  {
   "cell_type": "code",
   "execution_count": null,
   "id": "b09ebb8e",
   "metadata": {},
   "outputs": [],
   "source": [
    "mass_mu_model = P2INN_oscillator()\n",
    "optimizer = optim.Adam(mass_mu_model.parameters(), lr=0.001)\n",
    "trainer = Trainer(mass_mu_model, optimizer,epochs=10000, lambda_bc=2.0)\n",
    "trainer.train(params)"
   ]
  }
 ],
 "metadata": {
  "kernelspec": {
   "display_name": "venv_torch",
   "language": "python",
   "name": "python3"
  },
  "language_info": {
   "codemirror_mode": {
    "name": "ipython",
    "version": 3
   },
   "file_extension": ".py",
   "mimetype": "text/x-python",
   "name": "python",
   "nbconvert_exporter": "python",
   "pygments_lexer": "ipython3",
   "version": "3.10.11"
  }
 },
 "nbformat": 4,
 "nbformat_minor": 5
}
